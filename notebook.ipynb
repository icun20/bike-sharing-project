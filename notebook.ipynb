{
 "cells": [
  {
   "cell_type": "markdown",
   "id": "5f93cfed",
   "metadata": {},
   "source": [
    "\n",
    "# 📊 Bike Sharing Data Analysis\n",
    "\n",
    "**Nama:** Mochammad Ikhsan  \n",
    "**Email:** muhamadicun20@gmail.com  \n",
    "**ID Dicoding:** icun20\n",
    "\n",
    "---\n"
   ]
  },
  {
   "cell_type": "markdown",
   "id": "c9b27107",
   "metadata": {},
   "source": [
    "\n",
    "## 1. Menentukan Pertanyaan Bisnis\n",
    "\n",
    "1. Bagaimana pengaruh musim terhadap total jumlah penyewaan sepeda harian selama periode 2011-2012?\n",
    "2. Bagaimana perbandingan tren penggunaan sepeda oleh pengguna casual dan registered sepanjang tahun 2011-2012?\n",
    "3. (Analisis Lanjutan) Bagaimana pola hari dengan tingkat penyewaan rendah, sedang, dan tinggi?\n"
   ]
  },
  {
   "cell_type": "code",
   "execution_count": null,
   "id": "bf084c7b",
   "metadata": {},
   "outputs": [],
   "source": [
    "import pandas as pd\n",
    "import numpy as np\n",
    "import matplotlib.pyplot as plt\n",
    "import seaborn as sns\n",
    "import plotly.express as px\n",
    "\n",
    "sns.set(style='whitegrid')"
   ]
  },
  {
   "cell_type": "markdown",
   "id": "0e1907b6",
   "metadata": {},
   "source": [
    "## 2. Data Wrangling\n",
    "### Gathering Data"
   ]
  },
  {
   "cell_type": "code",
   "execution_count": null,
   "id": "8b1f26b3",
   "metadata": {},
   "outputs": [],
   "source": [
    "df = pd.read_csv('data/day.csv')\n",
    "df.head()"
   ]
  },
  {
   "cell_type": "markdown",
   "id": "392e36a6",
   "metadata": {},
   "source": [
    "### Assessing Data"
   ]
  },
  {
   "cell_type": "code",
   "execution_count": null,
   "id": "efe6fcc6",
   "metadata": {},
   "outputs": [],
   "source": [
    "print(df.info())\n",
    "print(df.describe())\n",
    "print(df.isnull().sum())"
   ]
  },
  {
   "cell_type": "markdown",
   "id": "0cf06878",
   "metadata": {},
   "source": [
    "### Cleaning Data"
   ]
  },
  {
   "cell_type": "code",
   "execution_count": null,
   "id": "5d8c3206",
   "metadata": {},
   "outputs": [],
   "source": [
    "season_map = {1: 'Spring', 2: 'Summer', 3: 'Fall', 4: 'Winter'}\n",
    "df['season_name'] = df['season'].map(season_map)\n",
    "df['date'] = pd.to_datetime(df['dteday'])\n",
    "df['year'] = df['date'].dt.year"
   ]
  },
  {
   "cell_type": "markdown",
   "id": "3bfa397e",
   "metadata": {},
   "source": [
    "## 3. Exploratory Data Analysis (EDA)\n",
    "### Explore Seasonal Trends"
   ]
  },
  {
   "cell_type": "code",
   "execution_count": null,
   "id": "d62c7746",
   "metadata": {},
   "outputs": [],
   "source": [
    "season_summary = df.groupby('season_name')['cnt'].sum().reset_index()\n",
    "print(season_summary)"
   ]
  },
  {
   "cell_type": "code",
   "execution_count": null,
   "id": "f83f32a4",
   "metadata": {},
   "outputs": [],
   "source": [
    "plt.figure(figsize=(8,5))\n",
    "sns.barplot(data=season_summary, x='season_name', y='cnt', palette='viridis')\n",
    "plt.title('Total Penyewaan Sepeda per Musim (2011-2012)')\n",
    "plt.xlabel('Musim')\n",
    "plt.ylabel('Total Penyewaan Sepeda')\n",
    "plt.tight_layout()\n",
    "plt.show()"
   ]
  },
  {
   "cell_type": "markdown",
   "id": "49236f8d",
   "metadata": {},
   "source": [
    "### Explore User Type Trends"
   ]
  },
  {
   "cell_type": "code",
   "execution_count": null,
   "id": "b6624788",
   "metadata": {},
   "outputs": [],
   "source": [
    "year_month = df.groupby(['year', 'mnth'])[['casual', 'registered']].sum().reset_index()\n",
    "year_month['month'] = pd.to_datetime(year_month['year'].astype(str) + '-' + year_month['mnth'].astype(str))"
   ]
  },
  {
   "cell_type": "code",
   "execution_count": null,
   "id": "5a6fe1e8",
   "metadata": {},
   "outputs": [],
   "source": [
    "plt.figure(figsize=(10,6))\n",
    "sns.lineplot(data=year_month, x='month', y='casual', label='Casual', marker='o')\n",
    "sns.lineplot(data=year_month, x='month', y='registered', label='Registered', marker='o')\n",
    "plt.title('Tren Pengguna Casual vs Registered (2011-2012)')\n",
    "plt.xlabel('Bulan')\n",
    "plt.ylabel('Jumlah Pengguna')\n",
    "plt.legend()\n",
    "plt.tight_layout()\n",
    "plt.show()"
   ]
  },
  {
   "cell_type": "markdown",
   "id": "4df934a5",
   "metadata": {},
   "source": [
    "## 4. Analisis Lanjutan (Clustering Manual)"
   ]
  },
  {
   "cell_type": "code",
   "execution_count": null,
   "id": "85de9676",
   "metadata": {},
   "outputs": [],
   "source": [
    "bins = [0, df['cnt'].quantile(0.33), df['cnt'].quantile(0.66), df['cnt'].max()]\n",
    "labels = ['Low', 'Medium', 'High']\n",
    "df['usage_level'] = pd.cut(df['cnt'], bins=bins, labels=labels, include_lowest=True)"
   ]
  },
  {
   "cell_type": "code",
   "execution_count": null,
   "id": "e9696c1c",
   "metadata": {},
   "outputs": [],
   "source": [
    "plt.figure(figsize=(7,4))\n",
    "sns.countplot(data=df, x='usage_level', palette='pastel', order=labels)\n",
    "plt.title('Distribusi Tingkat Penggunaan Sepeda per Hari')\n",
    "plt.xlabel('Tingkat Penggunaan')\n",
    "plt.ylabel('Jumlah Hari')\n",
    "plt.tight_layout()\n",
    "plt.show()"
   ]
  },
  {
   "cell_type": "markdown",
   "id": "1e2677d9",
   "metadata": {},
   "source": [
    "## 5. Conclusion\n",
    "\n",
    "- **Pertanyaan 1:** Musim gugur memiliki tingkat penyewaan sepeda tertinggi.\n",
    "- **Pertanyaan 2:** Pengguna registered mendominasi sepanjang tahun, pengguna casual memuncak di musim panas.\n",
    "- **Analisis Lanjutan:** Mayoritas hari berada pada tingkat penggunaan sepeda menengah.\n"
   ]
  }
 ],
 "metadata": {},
 "nbformat": 4,
 "nbformat_minor": 5
}